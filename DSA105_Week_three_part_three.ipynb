{
  "nbformat": 4,
  "nbformat_minor": 0,
  "metadata": {
    "colab": {
      "provenance": [],
      "authorship_tag": "ABX9TyP4+0iHlpp3DlnRqHZJkP5g",
      "include_colab_link": true
    },
    "kernelspec": {
      "name": "python3",
      "display_name": "Python 3"
    },
    "language_info": {
      "name": "python"
    }
  },
  "cells": [
    {
      "cell_type": "markdown",
      "metadata": {
        "id": "view-in-github",
        "colab_type": "text"
      },
      "source": [
        "<a href=\"https://colab.research.google.com/github/DaesAgelmar/DSA105_FoAP/blob/main/DSA105_W3_part_3.ipynb\" target=\"_parent\"><img src=\"https://colab.research.google.com/assets/colab-badge.svg\" alt=\"Open In Colab\"/></a>"
      ]
    },
    {
      "cell_type": "markdown",
      "source": [
        "## **Python Naming Conventions and PEP 8 Standards**\n",
        "\n",
        "What is PEP 8?\n",
        "PEP 8 (Python Enhancement Proposal 8) is the official style guide for Python code.\n",
        "\n",
        "Think of it as the \"grammar rules\" for writing Python.\n",
        "Why does it matter?\n",
        "\n",
        "* Makes your code readable for other programmers (and future you!)\n",
        "\n",
        "* Industry standard - employers expect it\n",
        "\n",
        "* Helps avoid bugs\n",
        "\n",
        "* Professional code quality\n",
        "\n",
        "**The Snake Case Convention**\n",
        "\n",
        "Python uses snake_case for variable and function names.\n",
        "Rules:\n",
        "\n",
        "* All lowercase letters\n",
        "\n",
        "* Words separated by underscores `_`\n",
        "\n",
        "* Descriptive and meaningful names\n"
      ],
      "metadata": {
        "id": "F5WgZDbJrXFt"
      }
    },
    {
      "cell_type": "code",
      "source": [
        "# ✅ GOOD - Following snake_case\n",
        "student_name = \"Alice\"\n",
        "total_price = 150.75\n",
        "course_enrollment_date = \"2024-09-30\"\n",
        "annual_revenue_2024 = 1500000\n",
        "\n",
        "# ❌ BAD - Not following conventions\n",
        "StudentName = \"Alice\"           # This is PascalCase (used for classes)\n",
        "totalPrice = 150.75             # This is camelCase (used in JavaScript)\n",
        "COURSE_ENROLLMENT_DATE = \"2024\" # This is for constants\n",
        "x = 1500000                     # Not descriptive"
      ],
      "metadata": {
        "id": "yaZFBY1Mr_Df"
      },
      "execution_count": null,
      "outputs": []
    },
    {
      "cell_type": "markdown",
      "source": [
        "**Complete PEP 8 Naming Guide**"
      ],
      "metadata": {
        "id": "TYO03RBTsFhX"
      }
    },
    {
      "cell_type": "code",
      "source": [
        "# ===========================================\n",
        "# 1. VARIABLES and FUNCTIONS: snake_case\n",
        "# ===========================================\n",
        "user_age = 25\n",
        "first_name = \"John\"\n",
        "account_balance = 1000.50\n",
        "\n",
        "def calculate_total_price():\n",
        "    pass\n",
        "\n",
        "def get_student_grades():\n",
        "    pass\n",
        "\n",
        "\n",
        "# ===========================================\n",
        "# 2. CONSTANTS: UPPER_CASE_WITH_UNDERSCORES\n",
        "# ===========================================\n",
        "MAX_CONNECTIONS = 100\n",
        "PI = 3.14159\n",
        "DEFAULT_TIMEOUT = 30\n",
        "TAX_RATE = 0.18\n",
        "\n",
        "\n",
        "# ===========================================\n",
        "# 3. CLASSES: PascalCase (CapWords)\n",
        "# ===========================================\n",
        "class StudentRecord:\n",
        "    pass\n",
        "\n",
        "class BankAccount:\n",
        "    pass\n",
        "\n",
        "class DataProcessor:\n",
        "    pass\n",
        "\n",
        "\n",
        "# ===========================================\n",
        "# 4. PRIVATE VARIABLES: _leading_underscore\n",
        "# ===========================================\n",
        "_internal_counter = 0\n",
        "_private_data = []\n",
        "\n",
        "\n",
        "# ===========================================\n",
        "# 5. MODULE NAMES: short, lowercase, underscores if needed\n",
        "# ===========================================\n",
        "# utils.py\n",
        "# data_processor.py\n",
        "# student_management.py"
      ],
      "metadata": {
        "id": "-nUR9qkNsHrQ"
      },
      "execution_count": null,
      "outputs": []
    },
    {
      "cell_type": "markdown",
      "source": [
        "**Python Keywords to Avoid**"
      ],
      "metadata": {
        "id": "bZnAeZ02sSJm"
      }
    },
    {
      "cell_type": "code",
      "source": [
        "\"\"\"\n",
        "Python Reserved Keywords (cannot be used as variable names):\n",
        "\n",
        "False      class      finally    is         return\n",
        "None       continue   for        lambda     try\n",
        "True       def        from       nonlocal   while\n",
        "and        del        global     not        with\n",
        "as         elif       if         or         yield\n",
        "assert     else       import     pass\n",
        "break      except     in         raise\n",
        "\"\"\"\n",
        "\n",
        "# How to check if a word is a keyword:\n",
        "import keyword\n",
        "print(keyword.iskeyword('class'))  # True\n",
        "print(keyword.iskeyword('student'))  # False"
      ],
      "metadata": {
        "id": "3lDx0kkPsUiI"
      },
      "execution_count": null,
      "outputs": []
    },
    {
      "cell_type": "markdown",
      "source": [
        "## **Code Comments - Making Your Code Understandable**\n",
        "\n",
        "Benefits:\n",
        "\n",
        "* Helps future you - You'll forget why you wrote something\n",
        "* Helps team members - Others can understand your logic\n",
        "* Documents decisions - Explains why you chose an approach\n",
        "* Makes debugging easier - Find problems faster\n",
        "* Professional standard - Expected in industry"
      ],
      "metadata": {
        "id": "JYCvzrViseSQ"
      }
    },
    {
      "cell_type": "code",
      "source": [
        "# ===========================================\n",
        "# ❌ BAD COMMENTS\n",
        "# ===========================================\n",
        "\n",
        "# Bad: States the obvious\n",
        "x = 5  # Set x to 5\n",
        "name = \"Alice\"  # Assign name variable to Alice\n",
        "total = price + tax  # Add price and tax\n",
        "\n",
        "# Bad: Redundant - code is already clear\n",
        "student_count = student_count + 1  # Increment student count by 1\n",
        "\n",
        "# Bad: Outdated or wrong\n",
        "# Calculate discount (NOTE: This comment is wrong!)\n",
        "total_price = base_price * 1.18  # Actually adds tax, not discount\n",
        "\n",
        "# Bad: Commented-out code (remove it or explain why it's kept)\n",
        "# old_price = 100\n",
        "# new_price = old_price * 0.9\n",
        "\n",
        "\n",
        "# ===========================================\n",
        "# ✅ GOOD COMMENTS\n",
        "# ===========================================\n",
        "\n",
        "# Good: Explains WHY, not WHAT\n",
        "# Using 1.18 multiplier instead of separate tax calculation\n",
        "# to improve performance in bulk operations\n",
        "final_price = base_price * 1.18\n",
        "\n",
        "# Good: Explains business logic\n",
        "# Discount applies only to orders above 1000 TL\n",
        "# as per company policy updated March 2024\n",
        "if order_total > 1000:\n",
        "    discount = order_total * 0.10\n",
        "\n",
        "# Good: Explains complex algorithm\n",
        "# Binary search implementation - O(log n) time complexity\n",
        "# More efficient than linear search for sorted data\n",
        "# (algorithm explanation would go here)\n",
        "\n",
        "# Good: Warns about potential issues\n",
        "# TODO: This assumes all prices are in TRY\n",
        "# Need to add currency conversion for international orders\n",
        "total_revenue = sum(sales_list)\n",
        "\n",
        "# Good: Documents data sources\n",
        "# Exchange rate data from Central Bank API\n",
        "# Updated daily at midnight\n",
        "exchange_rate = 34.50"
      ],
      "metadata": {
        "id": "2U7Qhnx2sy9c"
      },
      "execution_count": null,
      "outputs": []
    },
    {
      "cell_type": "markdown",
      "source": [
        "**When to Write Comments**"
      ],
      "metadata": {
        "id": "E-Wa5lgWs6H8"
      }
    },
    {
      "cell_type": "code",
      "source": [
        "# ===========================================\n",
        "# WRITE COMMENTS WHEN:\n",
        "# ===========================================\n",
        "\n",
        "# 1. Explaining business rules\n",
        "# Students with attendance below 70% automatically fail\n",
        "# regardless of exam scores (university regulation 2024/15)\n",
        "if attendance_percentage < 70:\n",
        "    final_grade = \"F\"\n",
        "\n",
        "# 2. Documenting assumptions\n",
        "# Assuming all monetary values are in Turkish Lira (TRY)\n",
        "# and tax rate remains constant at 18%\n",
        "TAX_RATE = 0.18\n",
        "\n",
        "# 3. Explaining non-obvious solutions\n",
        "# Using Floyd's cycle detection algorithm\n",
        "# to find duplicate in O(1) space complexity\n",
        "# Regular approach would require O(n) additional space\n",
        "\n",
        "# 4. Marking future improvements\n",
        "# TODO: Add input validation for negative prices\n",
        "# FIXME: This breaks when quantity is zero\n",
        "# HACK: Temporary workaround until API is fixed\n",
        "\n",
        "# 5. Explaining external dependencies\n",
        "# Using pandas library for data manipulation\n",
        "# Installation: pip install pandas\n",
        "import pandas as pd\n",
        "\n",
        "# 6. Complex calculations\n",
        "# ROI = (Net Profit / Cost of Investment) × 100\n",
        "# where Net Profit = Total Revenue - Total Cost\n",
        "roi_percentage = ((revenue - cost) / cost) * 100\n",
        "\n",
        "\n",
        "# ===========================================\n",
        "# DON'T WRITE COMMENTS WHEN:\n",
        "# ===========================================\n",
        "\n",
        "# ❌ Code is self-explanatory\n",
        "customer_age = 2024 - birth_year  # Don't comment this!\n",
        "\n",
        "# ❌ You can rename variables to be clearer\n",
        "# temp = a * b  # Calculate area  ❌ BAD\n",
        "area = length * width  # ✅ GOOD - no comment needed!"
      ],
      "metadata": {
        "id": "9tP5D6jos78V"
      },
      "execution_count": null,
      "outputs": []
    },
    {
      "cell_type": "markdown",
      "source": [
        "# ===========================================\n",
        "# NAMING CONVENTIONS CHECKLIST\n",
        "# ===========================================\n",
        "# ✅ Use snake_case for variables and functions\n",
        "# ✅ Use UPPER_CASE for constants\n",
        "# ✅ Use PascalCase for classes\n",
        "# ✅ Use descriptive names\n",
        "# ✅ Be consistent throughout your code\n",
        "# ✅ Avoid single letters (except i, j, k in loops)\n",
        "# ✅ Don't use Python keywords\n",
        "# ✅ Keep names concise but meaningful\n",
        "\n",
        "# ===========================================\n",
        "# COMMENTING CHECKLIST\n",
        "# ===========================================\n",
        "# ✅ Explain WHY, not WHAT\n",
        "# ✅ Write comments for complex logic\n",
        "# ✅ Document business rules and assumptions\n",
        "# ✅ Use TODO, FIXME for future work\n",
        "# ✅ Keep comments up-to-date with code\n",
        "# ✅ Don't state the obvious\n",
        "# ✅ Don't leave commented-out code\n",
        "# ✅ Use docstrings for functions and modules\n",
        "\n",
        "# ===========================================\n",
        "# CODE QUALITY CHECKLIST\n",
        "# ===========================================\n",
        "# ✅ Code should be readable without comments\n",
        "# ✅ Comments should add context and reasoning\n",
        "# ✅ Follow PEP 8 consistently\n",
        "# ✅ Group related code with blank lines\n",
        "# ✅ Use meaningful variable names\n",
        "# ✅ Keep line length reasonable (<79 chars for PEP 8)"
      ],
      "metadata": {
        "id": "vzDu3OD3tM0C"
      }
    }
  ]
}