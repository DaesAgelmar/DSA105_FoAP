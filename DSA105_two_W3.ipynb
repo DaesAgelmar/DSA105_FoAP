{
  "nbformat": 4,
  "nbformat_minor": 0,
  "metadata": {
    "colab": {
      "provenance": [],
      "authorship_tag": "ABX9TyNXJ7lJKVen3S5YgOvBmYlt",
      "include_colab_link": true
    },
    "kernelspec": {
      "name": "python3",
      "display_name": "Python 3"
    },
    "language_info": {
      "name": "python"
    }
  },
  "cells": [
    {
      "cell_type": "markdown",
      "metadata": {
        "id": "view-in-github",
        "colab_type": "text"
      },
      "source": [
        "<a href=\"https://colab.research.google.com/github/DaesAgelmar/DSA105_FoAP/blob/main/DSA105_two_W3.ipynb\" target=\"_parent\"><img src=\"https://colab.research.google.com/assets/colab-badge.svg\" alt=\"Open In Colab\"/></a>"
      ]
    },
    {
      "cell_type": "markdown",
      "source": [
        "# **Control Flow and Implementing Algorithms in Python**\n",
        "\n",
        "Conditional Statements:\n",
        "\n",
        "**The if Statement**\n",
        "\n",
        "Conditional statements allow programs to make decisions:"
      ],
      "metadata": {
        "id": "KR8IrlSkj8vU"
      }
    },
    {
      "cell_type": "code",
      "source": [
        "# Simple if statement\n",
        "age = 19\n",
        "\n",
        "if age >= 18:\n",
        "    print(\"You are eligible to vote.\")\n",
        "    print(\"Please register at the electoral office.\")"
      ],
      "metadata": {
        "id": "rT_LYeAUkR56"
      },
      "execution_count": null,
      "outputs": []
    },
    {
      "cell_type": "markdown",
      "source": [
        "Key Points:\n",
        "\n",
        "* The condition must evaluate to True or False\n",
        "\n",
        "* Code inside the if block must be indented\n",
        "\n",
        "* Indentation is crucial in Python `(use 4 spaces)`\n",
        "\n",
        "\n",
        "**Comparison Operators**"
      ],
      "metadata": {
        "id": "u3qRE3FjkYmZ"
      }
    },
    {
      "cell_type": "code",
      "source": [
        "# Equality and inequality\n",
        "x = 5\n",
        "y = 10\n",
        "\n",
        "print(x == y)   # False (equal to)\n",
        "print(x != y)   # True (not equal to)\n",
        "print(x < y)    # True (less than)\n",
        "print(x > y)    # False (greater than)\n",
        "print(x <= 5)   # True (less than or equal to)\n",
        "print(x >= 10)  # False (greater than or equal to)"
      ],
      "metadata": {
        "id": "2YOax_AEklVA"
      },
      "execution_count": null,
      "outputs": []
    },
    {
      "cell_type": "markdown",
      "source": [
        "**The if-else Statement**"
      ],
      "metadata": {
        "id": "sPzVO5Mfkrb4"
      }
    },
    {
      "cell_type": "code",
      "source": [
        "# Student admission decision\n",
        "gpa = 3.2\n",
        "gpa_requirement = 3.0\n",
        "\n",
        "if gpa >= gpa_requirement:\n",
        "    print(\"Congratulations! You meet the admission requirement.\")\n",
        "    print(\"Please proceed with the application.\")\n",
        "else:\n",
        "    print(\"Unfortunately, you do not meet the minimum GPA requirement.\")\n",
        "    print(f\"Required: {gpa_requirement}, Your GPA: {gpa}\")"
      ],
      "metadata": {
        "id": "MTiCGR-Dkuer"
      },
      "execution_count": null,
      "outputs": []
    },
    {
      "cell_type": "markdown",
      "source": [
        "**The if-elif-else Chain**"
      ],
      "metadata": {
        "id": "kDPk9eTOk7m4"
      }
    },
    {
      "cell_type": "code",
      "source": [
        "# Grade classification system\n",
        "score = 85\n",
        "\n",
        "if score >= 90:\n",
        "    grade = \"A\"\n",
        "    message = \"Excellent work!\"\n",
        "elif score >= 80:\n",
        "    grade = \"B\"\n",
        "    message = \"Good job!\"\n",
        "elif score >= 70:\n",
        "    grade = \"C\"\n",
        "    message = \"Satisfactory performance.\"\n",
        "elif score >= 60:\n",
        "    grade = \"D\"\n",
        "    message = \"You passed, but consider improvement.\"\n",
        "else:\n",
        "    grade = \"F\"\n",
        "    message = \"Unfortunately, you did not pass.\"\n",
        "\n",
        "print(f\"Score: {score}\")\n",
        "print(f\"Grade: {grade}\")\n",
        "print(message)"
      ],
      "metadata": {
        "id": "k5q27wTjk9zT"
      },
      "execution_count": null,
      "outputs": []
    },
    {
      "cell_type": "markdown",
      "source": [
        "Practical Example:\n",
        "\n",
        "**Discount Calculator**"
      ],
      "metadata": {
        "id": "AqNtCvxFlGcN"
      }
    },
    {
      "cell_type": "code",
      "source": [
        "# Calculate discount based on purchase amount\n",
        "purchase_amount = 250.00\n",
        "\n",
        "if purchase_amount >= 500:\n",
        "    discount_rate = 0.20  # 20% discount\n",
        "    tier = \"Gold\"\n",
        "elif purchase_amount >= 200:\n",
        "    discount_rate = 0.15  # 15% discount\n",
        "    tier = \"Silver\"\n",
        "elif purchase_amount >= 100:\n",
        "    discount_rate = 0.10  # 10% discount\n",
        "    tier = \"Bronze\"\n",
        "else:\n",
        "    discount_rate = 0.0   # No discount\n",
        "    tier = \"Standard\"\n",
        "\n",
        "discount_amount = purchase_amount * discount_rate\n",
        "final_amount = purchase_amount - discount_amount\n",
        "\n",
        "print(f\"Purchase Amount: ${purchase_amount:.2f}\")\n",
        "print(f\"Customer Tier: {tier}\")\n",
        "print(f\"Discount Rate: {discount_rate * 100}%\")\n",
        "print(f\"Discount Amount: ${discount_amount:.2f}\")\n",
        "print(f\"Final Amount: ${final_amount:.2f}\")"
      ],
      "metadata": {
        "id": "1qMEJuOUlIIT"
      },
      "execution_count": null,
      "outputs": []
    },
    {
      "cell_type": "markdown",
      "source": [
        "**Multiple Conditions with Logical Operators**"
      ],
      "metadata": {
        "id": "yff2XgmWlktm"
      }
    },
    {
      "cell_type": "code",
      "source": [
        "# Loan approval system\n",
        "age = 25\n",
        "income = 45000\n",
        "credit_score = 720\n",
        "\n",
        "# AND operator: all conditions must be true\n",
        "if age >= 21 and income >= 30000 and credit_score >= 650:\n",
        "    print(\"Loan application approved!\")\n",
        "else:\n",
        "    print(\"Loan application denied.\")\n",
        "\n",
        "    # Provide specific feedback\n",
        "    if age < 21:\n",
        "        print(\"- Applicant must be at least 21 years old\")\n",
        "    if income < 30000:\n",
        "        print(\"- Minimum income requirement not met\")\n",
        "    if credit_score < 650:\n",
        "        print(\"- Credit score below minimum threshold\")"
      ],
      "metadata": {
        "id": "4GEqZdGjlqHo"
      },
      "execution_count": null,
      "outputs": []
    },
    {
      "cell_type": "markdown",
      "source": [
        "Example of `OR` operator"
      ],
      "metadata": {
        "id": "lVwnLbDpl0m_"
      }
    },
    {
      "cell_type": "code",
      "source": [
        "# OR operator: at least one condition must be true\n",
        "has_scholarship = True\n",
        "gpa = 2.5\n",
        "gpa_requirement = 3.0\n",
        "\n",
        "if has_scholarship or gpa >= gpa_requirement:\n",
        "    print(\"Student is in good academic standing.\")\n",
        "else:\n",
        "    print(\"Student is on academic probation.\")"
      ],
      "metadata": {
        "id": "9arcdf0Ll9Wm"
      },
      "execution_count": null,
      "outputs": []
    },
    {
      "cell_type": "markdown",
      "source": [
        "## **Practical Examples:**"
      ],
      "metadata": {
        "id": "Oujz3j9dmRGj"
      }
    },
    {
      "cell_type": "code",
      "source": [
        "# Algorithm (from Session 1):\n",
        "# Calculate shipping based on weight brackets\n",
        "\n",
        "print(\"E-Commerce Shipping Calculator\")\n",
        "print(\"=\" * 50)\n",
        "\n",
        "# Input\n",
        "package_weight = 24.5  # kg\n",
        "destination = \"Domestic\"\n",
        "\n",
        "# Calculate base shipping cost\n",
        "if package_weight <= 5:\n",
        "    shipping_cost = 5\n",
        "    weight_tier = \"Light\"\n",
        "elif package_weight <= 10:\n",
        "    shipping_cost = 10\n",
        "    weight_tier = \"Medium\"\n",
        "elif package_weight <= 20:\n",
        "    shipping_cost = 15\n",
        "    weight_tier = \"Heavy\"\n",
        "else:\n",
        "    excess_weight = package_weight - 20\n",
        "    shipping_cost = 20 + (excess_weight * 2)\n",
        "    weight_tier = \"Extra Heavy\"\n",
        "\n",
        "# Apply destination modifier\n",
        "if destination == \"International\":\n",
        "    shipping_cost = shipping_cost * 1.5  # 50% surcharge\n",
        "    destination_fee = shipping_cost * 0.5\n",
        "else:\n",
        "    destination_fee = 0\n",
        "\n",
        "# Output\n",
        "print(f\"Package Weight: {package_weight} kg\")\n",
        "print(f\"Weight Tier: {weight_tier}\")\n",
        "print(f\"Destination: {destination}\")\n",
        "print(\"=\" * 50)\n",
        "print(f\"Base Shipping Cost: ${shipping_cost:.2f}\")\n",
        "if destination_fee > 0:\n",
        "    print(f\"International Fee: ${destination_fee:.2f}\")\n",
        "print(f\"Total Shipping Cost: ${shipping_cost:.2f}\")"
      ],
      "metadata": {
        "id": "FfRSsElRmVtC"
      },
      "execution_count": null,
      "outputs": []
    }
  ]
}