{
  "nbformat": 4,
  "nbformat_minor": 0,
  "metadata": {
    "colab": {
      "provenance": [],
      "authorship_tag": "ABX9TyMY7Vqx3sjz6z9m0QrqoCup",
      "include_colab_link": true
    },
    "kernelspec": {
      "name": "python3",
      "display_name": "Python 3"
    },
    "language_info": {
      "name": "python"
    }
  },
  "cells": [
    {
      "cell_type": "markdown",
      "metadata": {
        "id": "view-in-github",
        "colab_type": "text"
      },
      "source": [
        "<a href=\"https://colab.research.google.com/github/DaesAgelmar/DSA105_FoAP/blob/main/DSA105_W3.ipynb\" target=\"_parent\"><img src=\"https://colab.research.google.com/assets/colab-badge.svg\" alt=\"Open In Colab\"/></a>"
      ]
    },
    {
      "cell_type": "markdown",
      "source": [
        "## **Week 3 - Python Basics - Data Types, Variables, and Basic Operations**\n",
        "**Your First Python Program**\n",
        "\n",
        "Let's implement the classic \"Hello World\" program:"
      ],
      "metadata": {
        "id": "sT32gT_ccp8p"
      }
    },
    {
      "cell_type": "code",
      "source": [
        "# This is a comment - Python ignores this line\n",
        "# Comments help explain your code\n",
        "\n",
        "print(\"Hello Python world!\")"
      ],
      "metadata": {
        "id": "s8DjAbBbczw2"
      },
      "execution_count": null,
      "outputs": []
    },
    {
      "cell_type": "markdown",
      "source": [
        "Run this code - You should see the output below the cell.\n",
        "\n",
        "**Understanding the Code**\n",
        "\n",
        "`print()` is a function that displays output\n",
        "Text inside quotes `(\"...\")` is called a string\n",
        "The # symbol starts a comment"
      ],
      "metadata": {
        "id": "XrJHdWakc8M3"
      }
    },
    {
      "cell_type": "markdown",
      "source": [
        "**Variables: Storing Information**\n",
        "\n",
        "A variable is a named container that holds a value."
      ],
      "metadata": {
        "id": "6tUV0bDAdgSt"
      }
    },
    {
      "cell_type": "code",
      "source": [
        "# Creating variables\n",
        "message = \"Hello Python world!\"\n",
        "print(message)\n",
        "\n",
        "# Changing variable values\n",
        "message = \"Hello Python Crash Course world!\"\n",
        "print(message)"
      ],
      "metadata": {
        "id": "0qExnmfndHHG"
      },
      "execution_count": null,
      "outputs": []
    },
    {
      "cell_type": "markdown",
      "source": [
        "**Key Points:**\n",
        "\n",
        "Variable names should be descriptive\n",
        "\n",
        "Use lowercase with underscores: `student_name` not `StudentName`\n",
        "\n",
        "Variables can be reassigned new values"
      ],
      "metadata": {
        "id": "83PBWr5OdujT"
      }
    },
    {
      "cell_type": "markdown",
      "source": [
        "**Variable Naming Rules**"
      ],
      "metadata": {
        "id": "USrvIwN3d6tV"
      }
    },
    {
      "cell_type": "code",
      "source": [
        "# VALID variable names\n",
        "student_name = \"Alice\"\n",
        "student_age = 20\n",
        "grade_2024 = 85\n",
        "_private_value = 100\n",
        "\n",
        "# INVALID variable names (uncomment to see errors)\n",
        "# 2024_grade = 85      # Can't start with number\n",
        "# student-name = \"Bob\"  # Can't use hyphens\n",
        "# class = \"Economics\"   # Can't use Python keywords"
      ],
      "metadata": {
        "id": "MD0KwqfXd8V_"
      },
      "execution_count": null,
      "outputs": []
    },
    {
      "cell_type": "markdown",
      "source": [
        "## **Working with Numbers**\n",
        "**Integers and Floats**\n",
        "\n",
        "Python handles two main types of numbers:"
      ],
      "metadata": {
        "id": "dK-4YUzyeIz4"
      }
    },
    {
      "cell_type": "code",
      "source": [
        "# Integers (whole numbers)\n",
        "students_enrolled = 150\n",
        "semester_number = 2\n",
        "credits_earned = 90\n",
        "\n",
        "print(students_enrolled)\n",
        "print(semester_number)\n",
        "\n",
        "# Floats (decimal numbers)\n",
        "gpa = 3.75\n",
        "tuition_cost = 15000.50\n",
        "interest_rate = 0.045\n",
        "\n",
        "print(gpa)\n",
        "print(interest_rate)"
      ],
      "metadata": {
        "id": "uV2z34fXeQCm"
      },
      "execution_count": null,
      "outputs": []
    },
    {
      "cell_type": "markdown",
      "source": [
        "## **Arithmetic Operations**"
      ],
      "metadata": {
        "id": "BoA2peqxeYn4"
      }
    },
    {
      "cell_type": "code",
      "source": [
        "# Basic arithmetic\n",
        "print(2 + 3)      # Addition: 5\n",
        "print(10 - 4)     # Subtraction: 6\n",
        "print(5 * 3)      # Multiplication: 15\n",
        "print(15 / 3)     # Division: 5.0 (always returns float)\n",
        "print(15 // 3)    # Integer division: 5\n",
        "print(17 % 5)     # Modulus (remainder): 2\n",
        "print(2 ** 3)     # Exponentiation: 8"
      ],
      "metadata": {
        "id": "INufsQKUea59"
      },
      "execution_count": null,
      "outputs": []
    },
    {
      "cell_type": "markdown",
      "source": [
        "**Order of Operations**\n",
        "\n",
        "Python follows standard mathematical order (PEMDAS):"
      ],
      "metadata": {
        "id": "7bfjhh9Hejf8"
      }
    },
    {
      "cell_type": "code",
      "source": [
        "# Without parentheses\n",
        "result1 = 2 + 3 * 4\n",
        "print(result1)  # 14 (multiplication first)\n",
        "\n",
        "# With parentheses\n",
        "result2 = (2 + 3) * 4\n",
        "print(result2)  # 20 (addition first)\n",
        "\n",
        "# Complex calculation\n",
        "result3 = (5 + 3) * 2 ** 2 / 4\n",
        "print(result3)  # 8.0"
      ],
      "metadata": {
        "id": "Eu88OBN5emJ2"
      },
      "execution_count": null,
      "outputs": []
    },
    {
      "cell_type": "markdown",
      "source": [
        "**Practical Example**:\n",
        "\n",
        "Sales Calculation"
      ],
      "metadata": {
        "id": "t23DrK9Weusr"
      }
    },
    {
      "cell_type": "code",
      "source": [
        "# Calculate total sales revenue\n",
        "item_price = 49.99\n",
        "quantity_sold = 125\n",
        "tax_rate = 0.08\n",
        "\n",
        "# Calculate subtotal\n",
        "subtotal = item_price * quantity_sold\n",
        "print(f\"Subtotal: ${subtotal}\")\n",
        "\n",
        "# Calculate tax\n",
        "sales_tax = subtotal * tax_rate\n",
        "print(f\"Sales Tax: ${sales_tax}\")\n",
        "\n",
        "# Calculate total\n",
        "total_revenue = subtotal + sales_tax\n",
        "print(f\"Total Revenue: ${total_revenue}\")"
      ],
      "metadata": {
        "id": "jaERuk18ezjv"
      },
      "execution_count": null,
      "outputs": []
    },
    {
      "cell_type": "markdown",
      "source": [
        "Using Underscores for Readability"
      ],
      "metadata": {
        "id": "2WaRBhFpfAAp"
      }
    },
    {
      "cell_type": "code",
      "source": [
        "# Large numbers can use underscores\n",
        "company_revenue = 14_500_000\n",
        "population = 1_400_000_000\n",
        "\n",
        "print(company_revenue)  # Python ignores underscores: 14500000\n",
        "print(population)"
      ],
      "metadata": {
        "id": "TSHFvh7sfBPO"
      },
      "execution_count": null,
      "outputs": []
    },
    {
      "cell_type": "markdown",
      "source": [
        "Multiple Assignment"
      ],
      "metadata": {
        "id": "0cqWRXH-fGcI"
      }
    },
    {
      "cell_type": "code",
      "source": [
        "# Assign multiple variables at once\n",
        "x, y, z = 0, 0, 0\n",
        "print(x, y, z)  # 0 0 0\n",
        "\n",
        "# Useful for related values\n",
        "price, quantity, discount = 100.0, 5, 0.10\n",
        "print(price, quantity, discount)"
      ],
      "metadata": {
        "id": "LUUix4ewfHeD"
      },
      "execution_count": null,
      "outputs": []
    },
    {
      "cell_type": "markdown",
      "source": [
        "# **Working with Strings**\n",
        "Creating and Using Strings"
      ],
      "metadata": {
        "id": "e084YvPyfNlt"
      }
    },
    {
      "cell_type": "code",
      "source": [
        "# Strings can use single or double quotes\n",
        "name = \"Ada Lovelace\"\n",
        "course = 'Fundamentals of Algorithms'\n",
        "university = \"Economics University\"\n",
        "\n",
        "print(name)\n",
        "print(course)"
      ],
      "metadata": {
        "id": "RfQA5DPufZXi"
      },
      "execution_count": null,
      "outputs": []
    },
    {
      "cell_type": "markdown",
      "source": [
        "**String Methods: Changing Case**"
      ],
      "metadata": {
        "id": "wVQkvwjSf895"
      }
    },
    {
      "cell_type": "code",
      "source": [
        "name = \"ada lovelace\"\n",
        "\n",
        "# Title case: capitalize first letter of each word\n",
        "print(name.title())     # Ada Lovelace\n",
        "\n",
        "# Uppercase: all letters capital\n",
        "print(name.upper())     # ADA LOVELACE\n",
        "\n",
        "# Lowercase: all letters lowercase\n",
        "print(name.lower())     # ada lovelace"
      ],
      "metadata": {
        "id": "8qsn_IyOgD4H"
      },
      "execution_count": null,
      "outputs": []
    },
    {
      "cell_type": "markdown",
      "source": [
        "**Why is this useful?**\n",
        "\n",
        "*   Standardizing user input\n",
        "*   Formatting names for display\n",
        "*   Data cleaning in analytics\n",
        "\n",
        "\n"
      ],
      "metadata": {
        "id": "GOcqFAgHgHAw"
      }
    },
    {
      "cell_type": "markdown",
      "source": [
        "**F-Strings: Combining Variables and Text**"
      ],
      "metadata": {
        "id": "_2DlUcG5ggh4"
      }
    },
    {
      "cell_type": "code",
      "source": [
        "first_name = \"ada\"\n",
        "last_name = \"lovelace\"\n",
        "\n",
        "# Create full name using f-string\n",
        "full_name = f\"{first_name} {last_name}\"\n",
        "print(full_name)\n",
        "\n",
        "# Use in a complete message\n",
        "print(f\"Hello, {full_name.title()}!\")\n",
        "\n",
        "# Store message in variable\n",
        "message = f\"Hello, {full_name.title()}!\"\n",
        "print(message)"
      ],
      "metadata": {
        "id": "XmQLIxMFgs3y"
      },
      "execution_count": null,
      "outputs": []
    },
    {
      "cell_type": "markdown",
      "source": [
        "**Whitespace in Strings**"
      ],
      "metadata": {
        "id": "isNhx7bPg1j4"
      }
    },
    {
      "cell_type": "code",
      "source": [
        "# Adding tabs\n",
        "print(\"Languages:\")\n",
        "print(\"\\tPython\")\n",
        "print(\"\\tJavaScript\")\n",
        "print(\"\\tJava\")\n",
        "\n",
        "# Adding newlines\n",
        "print(\"Languages:\\nPython\\nJavaScript\\nJava\")\n",
        "\n",
        "# Combining tabs and newlines\n",
        "print(\"Languages:\\n\\tPython\\n\\tJavaScript\\n\\tJava\")"
      ],
      "metadata": {
        "id": "zGO06okqg8Uc"
      },
      "execution_count": null,
      "outputs": []
    },
    {
      "cell_type": "markdown",
      "source": [
        "**Stripping Whitespace**"
      ],
      "metadata": {
        "id": "t6ARYOizhApC"
      }
    },
    {
      "cell_type": "code",
      "source": [
        "# Extra whitespace is common with user input\n",
        "username = \" alice_jones \"\n",
        "print(f\"Original: '{username}'\")\n",
        "\n",
        "# Remove whitespace from right\n",
        "print(f\"Right strip: '{username.rstrip()}'\")\n",
        "\n",
        "# Remove whitespace from left\n",
        "print(f\"Left strip: '{username.lstrip()}'\")\n",
        "\n",
        "# Remove whitespace from both sides\n",
        "print(f\"Both sides: '{username.strip()}'\")\n",
        "\n",
        "# Permanent removal\n",
        "username = username.strip()\n",
        "print(f\"Cleaned: '{username}'\")"
      ],
      "metadata": {
        "id": "Z0k9M8CShCLO"
      },
      "execution_count": null,
      "outputs": []
    },
    {
      "cell_type": "markdown",
      "source": [
        "**Removing Prefixes and Suffixes**"
      ],
      "metadata": {
        "id": "wueiWhYPhI6z"
      }
    },
    {
      "cell_type": "code",
      "source": [
        "# Remove prefix\n",
        "url = \"https://www.university.edu\"\n",
        "clean_url = url.removeprefix(\"https://\")\n",
        "print(clean_url)  # www.university.edu\n",
        "\n",
        "# Remove suffix\n",
        "filename = \"student_data.csv\"\n",
        "name_only = filename.removesuffix(\".csv\")\n",
        "print(name_only)  # student_data"
      ],
      "metadata": {
        "id": "_HqRxoZYhKh9"
      },
      "execution_count": null,
      "outputs": []
    },
    {
      "cell_type": "markdown",
      "source": [
        "**Practical Example:**\n",
        "\n",
        "Business Card"
      ],
      "metadata": {
        "id": "-L6Nx0QGhVY0"
      }
    },
    {
      "cell_type": "code",
      "source": [
        "# Create a business card for yourself\n",
        "first_name = \"your_first_name\"\n",
        "last_name = \"your_last_name\"\n",
        "job_title = \"Data Analyst\"\n",
        "company = \"Analytics Corp\"\n",
        "email = f\"{first_name.lower()}.{last_name.lower()}@company.com\"\n",
        "\n",
        "business_card = f\"\"\"\n",
        "{'=' * 40}\n",
        "{first_name.title()} {last_name.title()}\n",
        "{job_title}\n",
        "{company}\n",
        "{'=' * 40}\n",
        "Contact: {email}\n",
        "\"\"\"\n",
        "\n",
        "print(business_card)"
      ],
      "metadata": {
        "id": "xAuMmTHXhXTd"
      },
      "execution_count": null,
      "outputs": []
    }
  ]
}